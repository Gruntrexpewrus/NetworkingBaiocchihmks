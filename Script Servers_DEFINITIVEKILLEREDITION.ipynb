{
 "cells": [
  {
   "cell_type": "code",
   "execution_count": 1,
   "metadata": {},
   "outputs": [],
   "source": [
    "import numpy as np\n",
    "import scipy.special as scp\n",
    "from collections import deque\n",
    "import random\n",
    "import pandas as pd"
   ]
  },
  {
   "cell_type": "code",
   "execution_count": 2,
   "metadata": {},
   "outputs": [],
   "source": [
    "class Task:\n",
    "    \n",
    "    def __init__(self, T0 = 1, q = 3 / 5, Ybar = 10, N = 20, alpha = 0.5, rho  = 0.8):\n",
    "        self.T = 0\n",
    "        if(np.random.uniform() < q):\n",
    "            self.T = T0\n",
    "        else:\n",
    "            self.T = round(T0 - Ybar * np.log(np.random.uniform()))\n",
    "        beta = (N * rho * (T0 + (1 - q) * Ybar)) / 2\n",
    "        EX = beta * scp.gamma(1 + 1 / alpha)\n",
    "        aux = round(beta * ((-np.log(np.random.uniform())) ** (1 / alpha)))\n",
    "        self.X = max([1, min([100 * EX, aux])])\n",
    "        self.start_time = 0\n",
    "        self.end_time = 0\n",
    "        \n",
    "    def copy(self):\n",
    "        to_return = Task()\n",
    "        to_return.T = self.T\n",
    "        to_return.X = self.X\n",
    "        to_return.start_time = self.start_time\n",
    "        to_return.end_time = self.end_time\n",
    "        return(to_return)\n",
    "        \n",
    "class Server:\n",
    "    \n",
    "    def __init__(self):\n",
    "        self.queue = deque()\n",
    "        self.current_task = None\n",
    "        \n",
    "    def task_remaining_time(self):\n",
    "        if(self.current_task is None):\n",
    "            return(float(\"+Inf\"))\n",
    "        else:\n",
    "            return(self.current_task.X)\n",
    "        \n",
    "    def add_task(self, task):\n",
    "        if(self.current_task is None):\n",
    "            self.current_task = task\n",
    "        else:\n",
    "            self.queue.append(task)\n",
    "        \n",
    "    def go_next_task(self):\n",
    "        previous_task = self.current_task\n",
    "        if(len(self.queue) == 0):\n",
    "            self.current_task = None\n",
    "        else:\n",
    "            self.current_task = self.queue.pop()\n",
    "        return(previous_task)\n",
    "    \n",
    "    def length(self):\n",
    "        if(self.current_task is None):\n",
    "            return(0)\n",
    "        else:\n",
    "            return(len(self.queue) + 1)\n",
    "    \n",
    "    def all_remaining_time(self):\n",
    "        if(self.current_task is None):\n",
    "            return(0)\n",
    "        to_return = self.current_task.X\n",
    "        to_return = to_return + sum([task.X for task in list(self.queue)])\n",
    "        return(to_return)\n",
    "    \n",
    "    def mean_remaining_time(self):\n",
    "        if(self.current_task is None):\n",
    "            return(0)\n",
    "        else:\n",
    "            return(self.all_remaining_time() / self.length())\n",
    "    \n",
    "    def max_rem_time(self):\n",
    "        if(self.current_task is None):\n",
    "            return(0)\n",
    "        maximus = self.current_task.X\n",
    "        for task in list(self.queue):\n",
    "            if(task.X > maximus):\n",
    "                maximus = task.X\n",
    "        return(maximus)"
   ]
  },
  {
   "cell_type": "code",
   "execution_count": 3,
   "metadata": {},
   "outputs": [],
   "source": [
    "def JSQ_simulation(messages, T0 = 1, q = 3 / 5, Ybar = 10, N = 20, alpha = 0.5, rho = 0.8):\n",
    "    servers = [Server() for _ in range(N)]\n",
    "    if(isinstance(messages, int)):\n",
    "        tasks = deque([Task(T0, 1, Ybar, N, alpha, rho) for _ in range(messages)])\n",
    "    else:\n",
    "        tasks = deque(messages)\n",
    "    times = []\n",
    "    msg_overheads = []\n",
    "    next_task = tasks.pop()\n",
    "    current_time = 0\n",
    "    while(not next_task is None):\n",
    "        # print(\"Next task : \" + str(next_task.T) + \" Service time : \" + str(next_task.X))\n",
    "        # for index in range(len(servers)):\n",
    "        #   to_print = \"\"\n",
    "        #   if(not servers[index].current_task is None):\n",
    "        #       to_print = to_print + \" \" + str(servers[index].current_task.X)\n",
    "        #   for element in list(servers[index].queue):\n",
    "        #       to_print = to_print + \" | \" + str(element.X)\n",
    "        #   print(\"Server - \" + str(index) + to_print)\n",
    "        first_server_stopped = min(servers, key = lambda x : x.task_remaining_time()).task_remaining_time()\n",
    "        servers_stopped = [server for server in servers if server.task_remaining_time() == first_server_stopped]\n",
    "        time = min([first_server_stopped, next_task.T])\n",
    "        current_time = current_time + time\n",
    "        changed_task = False\n",
    "        for server in servers:\n",
    "            if(server.task_remaining_time() != first_server_stopped and not server.current_task is None):\n",
    "                server.current_task.X = server.current_task.X - time\n",
    "            elif(server.task_remaining_time() == first_server_stopped and time != first_server_stopped and first_server_stopped != float(\"+Inf\")):\n",
    "                server.current_task.X = server.current_task.X - time\n",
    "        if(first_server_stopped <= next_task.T):\n",
    "            for server in servers_stopped:\n",
    "                completed_task = server.go_next_task()\n",
    "                times.append(current_time - completed_task.start_time)\n",
    "        if(next_task.T <= first_server_stopped):\n",
    "            chosen_server = min(servers, key = lambda x : x.length())\n",
    "            chosen_server.add_task(next_task)\n",
    "            next_task.start_time = current_time\n",
    "            if(len(tasks) == 0):\n",
    "                next_task = None\n",
    "            else:\n",
    "                next_task = tasks.pop()\n",
    "            changed_task = True\n",
    "            msg_overheads.append(2 * N)\n",
    "        if(not changed_task):\n",
    "            next_task.T = next_task.T - time\n",
    "    for server in servers:\n",
    "        other_current_time = current_time\n",
    "        if(not server.current_task is None):\n",
    "            times.append(current_time + server.current_task.X - server.current_task.start_time)\n",
    "            other_current_time = current_time + server.current_task.X\n",
    "        for task in list(server.queue):\n",
    "            other_current_time = other_current_time + task.X\n",
    "            times.append(other_current_time - task.start_time)\n",
    "    return(times, msg_overheads)"
   ]
  },
  {
   "cell_type": "code",
   "execution_count": 4,
   "metadata": {},
   "outputs": [],
   "source": [
    "def JBT_simulation(messages, d = 3, T = None, T0 = 1, q = 3 / 5, Ybar = 10, N = 20, alpha = 0.5, rho = 0.8):\n",
    "    if(T is None):\n",
    "        T = 1000 * T0\n",
    "    threshold = 1\n",
    "    servers = [Server() for _ in range(N)]\n",
    "    if(isinstance(messages, int)):\n",
    "        tasks = deque([Task(T0, 1, Ybar, N, alpha, rho) for _ in range(messages)])\n",
    "    else:\n",
    "        tasks = deque(messages)\n",
    "    times = []\n",
    "    msg_overheads = []\n",
    "    current_msg_overhead = 0\n",
    "    next_task = tasks.pop()\n",
    "    current_time = 0\n",
    "    while(not next_task is None):\n",
    "        first_server_stopped = min(servers, key = lambda x : x.task_remaining_time()).task_remaining_time()\n",
    "        servers_stopped = [server for server in servers if server.task_remaining_time() == first_server_stopped]\n",
    "        time = min([first_server_stopped, next_task.T])\n",
    "        if(current_time % T != 0 and (current_time + time) % T == 0):\n",
    "            current_msg_overhead = current_msg_overhead + 2 * N\n",
    "            random_servers = random.choices(servers, k = d)\n",
    "            threshold = min([serv.length() for serv in random_servers])\n",
    "        current_time = current_time + time\n",
    "        changed_task = False\n",
    "        for server in servers:\n",
    "            if(server.task_remaining_time() != first_server_stopped and not server.current_task is None):\n",
    "                server.current_task.X = server.current_task.X - time\n",
    "            elif(server.task_remaining_time() == first_server_stopped and time != first_server_stopped and first_server_stopped != float(\"+Inf\")):\n",
    "                server.current_task.X = server.current_task.X - time\n",
    "        if(first_server_stopped <= next_task.T):\n",
    "            for server in servers_stopped:\n",
    "                completed_task = server.go_next_task()\n",
    "                times.append(current_time - completed_task.start_time)\n",
    "                if(server.length() == threshold - 1):\n",
    "                    current_msg_overhead = current_msg_overhead + 1\n",
    "        if(next_task.T <= first_server_stopped):\n",
    "            msg_overheads.append(current_msg_overhead)\n",
    "            current_msg_overhead = 0\n",
    "            below_threshold = [server for server in servers if server.length() < threshold]\n",
    "            if(len(below_threshold) == 0):\n",
    "                chosen_server = random.choice(servers)\n",
    "            else:\n",
    "                chosen_server = random.choice(below_threshold)\n",
    "            chosen_server.add_task(next_task)\n",
    "            if(chosen_server.length() == threshold):\n",
    "                current_msg_overhead = 1\n",
    "            next_task.start_time = current_time\n",
    "            if(len(tasks) == 0):\n",
    "                next_task = None\n",
    "            else:\n",
    "                next_task = tasks.pop()\n",
    "            changed_task = True\n",
    "        if(not changed_task):\n",
    "            next_task.T = next_task.T - time\n",
    "    for server in servers:\n",
    "        other_current_time = current_time\n",
    "        if(not server.current_task is None):\n",
    "            times.append(current_time + server.current_task.X - server.current_task.start_time)\n",
    "            other_current_time = current_time + server.current_task.X\n",
    "        for task in list(server.queue):\n",
    "            other_current_time = other_current_time + task.X\n",
    "            times.append(other_current_time - task.start_time)\n",
    "    return(times, msg_overheads)"
   ]
  },
  {
   "cell_type": "code",
   "execution_count": 5,
   "metadata": {},
   "outputs": [],
   "source": [
    "def POD_simulation(messages, d = 3, T0 = 1, q = 3 / 5, Ybar = 10, N = 20, alpha = 0.5, rho = 0.8):\n",
    "    servers = [Server() for _ in range(N)]\n",
    "    if(isinstance(messages, int)):\n",
    "        tasks = deque([Task(T0, 1, Ybar, N, alpha, rho) for _ in range(messages)])\n",
    "    else:\n",
    "        tasks = deque(messages)\n",
    "    times = []\n",
    "    msg_overheads = []\n",
    "    next_task = tasks.pop()\n",
    "    current_time = 0\n",
    "    while(not next_task is None):\n",
    "        first_server_stopped = min(servers, key = lambda x : x.task_remaining_time()).task_remaining_time()\n",
    "        servers_stopped = [server for server in servers if server.task_remaining_time() == first_server_stopped]\n",
    "        time = min([first_server_stopped, next_task.T])\n",
    "        current_time = current_time + time\n",
    "        changed_task = False\n",
    "        for server in servers:\n",
    "            if(server.task_remaining_time() != first_server_stopped and not server.current_task is None):\n",
    "                server.current_task.X = server.current_task.X - time\n",
    "            elif(server.task_remaining_time() == first_server_stopped and time != first_server_stopped and first_server_stopped != float(\"+Inf\")):\n",
    "                server.current_task.X = server.current_task.X - time\n",
    "        if(first_server_stopped <= next_task.T):\n",
    "            for server in servers_stopped:\n",
    "                completed_task = server.go_next_task()\n",
    "                times.append(current_time - completed_task.start_time)\n",
    "        if(next_task.T <= first_server_stopped):\n",
    "            msg_overheads.append(2 * d)\n",
    "            random_servers = random.choices(servers, k = d)\n",
    "            chosen_server = min(random_servers, key = lambda x : len(x.queue))\n",
    "            chosen_server.add_task(next_task)\n",
    "            next_task.start_time = current_time\n",
    "            if(len(tasks) == 0):\n",
    "                next_task = None\n",
    "            else:\n",
    "                next_task = tasks.pop()\n",
    "            changed_task = True\n",
    "        if(not changed_task):\n",
    "            next_task.T = next_task.T - time\n",
    "    for server in servers:\n",
    "        other_current_time = current_time\n",
    "        if(not server.current_task is None):\n",
    "            times.append(current_time + server.current_task.X - server.current_task.start_time)\n",
    "            other_current_time = current_time + server.current_task.X\n",
    "        for task in list(server.queue):\n",
    "            other_current_time = other_current_time + task.X\n",
    "            times.append(other_current_time - task.start_time)\n",
    "    return(times, msg_overheads)"
   ]
  },
  {
   "cell_type": "code",
   "execution_count": 6,
   "metadata": {},
   "outputs": [],
   "source": [
    "def NINA_simulation(messages, m = None, threshold_quantile = 0.5, T0 = 1, q = 3 / 5, Ybar = 10, N = 20, alpha = 0.5, rho = 8):\n",
    "    if(m is None):\n",
    "        m = N // 2\n",
    "    light_servers = [Server() for _ in range(m)]\n",
    "    heavy_servers = [Server() for _ in range(N - m)]\n",
    "    servers = [server for server in light_servers]\n",
    "    servers.extend(heavy_servers)\n",
    "    if(isinstance(messages, int)):\n",
    "        tasks = deque([Task(T0, 1, Ybar, N, alpha, rho) for _ in range(messages)])\n",
    "    else:\n",
    "        tasks = deque(messages)\n",
    "    times = []\n",
    "    msg_overheads = []\n",
    "    next_task = tasks.pop()\n",
    "    observed_times = [next_task.X]\n",
    "    current_time = 0\n",
    "    while(not next_task is None):\n",
    "        first_server_stopped = min(servers, key = lambda x : x.task_remaining_time()).task_remaining_time()\n",
    "        servers_stopped = [server for server in servers if server.task_remaining_time() == first_server_stopped]\n",
    "        time = min([first_server_stopped, next_task.T])\n",
    "        current_time = current_time + time\n",
    "        changed_task = False\n",
    "        for server in servers:\n",
    "            if(server.task_remaining_time() != first_server_stopped and not server.current_task is None):\n",
    "                server.current_task.X = server.current_task.X - time\n",
    "            elif(server.task_remaining_time() == first_server_stopped and time != first_server_stopped and first_server_stopped != float(\"+Inf\")):\n",
    "                server.current_task.X = server.current_task.X - time\n",
    "        if(first_server_stopped <= next_task.T):\n",
    "            for server in servers_stopped:\n",
    "                completed_task = server.go_next_task()\n",
    "                times.append(current_time - completed_task.start_time)\n",
    "        if(next_task.T <= first_server_stopped):\n",
    "            threshold = np.quantile(observed_times[-1000:], threshold_quantile)\n",
    "            if(next_task.X > threshold):\n",
    "                msg_overheads.append(2 * (N - m))\n",
    "                chosen_server = min(heavy_servers, key = lambda x : x.length())\n",
    "            else:\n",
    "                msg_overheads.append(2 * m)\n",
    "                chosen_server = min(light_servers, key = lambda x : x.length())\n",
    "            chosen_server.add_task(next_task)\n",
    "            next_task.start_time = current_time\n",
    "            if(len(tasks) == 0):\n",
    "                next_task = None\n",
    "            else:\n",
    "                next_task = tasks.pop()\n",
    "                observed_times.append(next_task.X)\n",
    "            changed_task = True\n",
    "        if(not changed_task):\n",
    "            next_task.T = next_task.T - time\n",
    "    for server in servers:\n",
    "        other_current_time = current_time\n",
    "        if(not server.current_task is None):\n",
    "            times.append(current_time + server.current_task.X - server.current_task.start_time)\n",
    "            other_current_time = current_time + server.current_task.X\n",
    "        for task in list(server.queue):\n",
    "            other_current_time = other_current_time + task.X\n",
    "            times.append(other_current_time - task.start_time)\n",
    "    return(times)"
   ]
  },
  {
   "cell_type": "code",
   "execution_count": 7,
   "metadata": {},
   "outputs": [],
   "source": [
    "def ALT_simulation(messages, minimize = lambda server : server.all_remaining_time(), T0 = 1, q = 3 / 5, Ybar = 10, N = 20, alpha = 0.5, rho = 0.8):\n",
    "    servers = [Server() for _ in range(N)]\n",
    "    if(isinstance(messages, int)):\n",
    "        tasks = deque([Task(T0, 1, Ybar, N, alpha, rho) for _ in range(messages)])\n",
    "    else:\n",
    "        tasks = deque(messages)\n",
    "    times = []\n",
    "    msg_overheads = []\n",
    "    next_task = tasks.pop()\n",
    "    current_time = 0\n",
    "    while(not next_task is None):\n",
    "        #print(\"Next task : \" + str(next_task.T) + \" Service time : \" + str(next_task.X))\n",
    "        #for index in range(len(servers)):\n",
    "        #   to_print = \"\"\n",
    "        #   if(not servers[index].current_task is None):\n",
    "        #       to_print = to_print + \" \" + str(servers[index].current_task.X)\n",
    "        #   for element in list(servers[index].queue):\n",
    "        #       to_print = to_print + \" | \" + str(element.X)\n",
    "        #   print(\"Server - \" + str(index) + to_print)\n",
    "        first_server_stopped = min(servers, key = lambda x : x.task_remaining_time()).task_remaining_time()\n",
    "        servers_stopped = [server for server in servers if server.task_remaining_time() == first_server_stopped]\n",
    "        time = min([first_server_stopped, next_task.T])\n",
    "        current_time = current_time + time\n",
    "        changed_task = False\n",
    "        for server in servers:\n",
    "            if(server.task_remaining_time() != first_server_stopped and not server.current_task is None):\n",
    "                server.current_task.X = server.current_task.X - time\n",
    "            elif(server.task_remaining_time() == first_server_stopped and time != first_server_stopped and first_server_stopped != float(\"+Inf\")):\n",
    "                server.current_task.X = server.current_task.X - time\n",
    "        if(first_server_stopped <= next_task.T):\n",
    "            for server in servers_stopped:\n",
    "                completed_task = server.go_next_task()\n",
    "                times.append(current_time - completed_task.start_time)\n",
    "        if(next_task.T <= first_server_stopped):\n",
    "            msg_overheads.append(2 * N)\n",
    "            min_length = min([serv.length() for serv in servers])\n",
    "            to_pick = [serv for serv in servers if serv.length() == min_length]\n",
    "            chosen_server = min(to_pick, key = lambda x : minimize(x))\n",
    "            chosen_server.add_task(next_task)\n",
    "            next_task.start_time = current_time\n",
    "            if(len(tasks) == 0):\n",
    "                next_task = None\n",
    "            else:\n",
    "                next_task = tasks.pop()\n",
    "            changed_task = True\n",
    "        if(not changed_task):\n",
    "            next_task.T = next_task.T - time\n",
    "    for server in servers:\n",
    "        other_current_time = current_time\n",
    "        if(not server.current_task is None):\n",
    "            times.append(current_time + server.current_task.X - server.current_task.start_time)\n",
    "            other_current_time = current_time + server.current_task.X\n",
    "        for task in list(server.queue):\n",
    "            other_current_time = other_current_time + task.X\n",
    "            times.append(other_current_time - task.start_time)\n",
    "    return(times, msg_overheads)"
   ]
  },
  {
   "cell_type": "code",
   "execution_count": 33,
   "metadata": {},
   "outputs": [],
   "source": [
    "messages = [Task() for _ in range(100000)]"
   ]
  },
  {
   "cell_type": "code",
   "execution_count": 10,
   "metadata": {
    "scrolled": false
   },
   "outputs": [],
   "source": [
    "FAST = ALT_simulation([task.copy() for task in messages])"
   ]
  },
  {
   "cell_type": "code",
   "execution_count": 11,
   "metadata": {},
   "outputs": [],
   "source": [
    "FASTER = ALT_simulation([task.copy() for task in messages], minimize = lambda x : x.max_rem_time())"
   ]
  },
  {
   "cell_type": "code",
   "execution_count": 14,
   "metadata": {
    "scrolled": true
   },
   "outputs": [],
   "source": [
    "JSQ = JSQ_simulation([task.copy() for task in messages])"
   ]
  },
  {
   "cell_type": "code",
   "execution_count": 15,
   "metadata": {},
   "outputs": [
    {
     "name": "stdout",
     "output_type": "stream",
     "text": [
      "Mean time : 110.05619\n",
      "Mean msg overhead : 40.0\n"
     ]
    }
   ],
   "source": [
    "print(\"Mean time : \" + str(np.mean(FAST[0])))\n",
    "print(\"Mean msg overhead : \" + str(np.mean(FASTER[1])))"
   ]
  },
  {
   "cell_type": "code",
   "execution_count": 16,
   "metadata": {},
   "outputs": [
    {
     "name": "stdout",
     "output_type": "stream",
     "text": [
      "Mean time : 110.61092\n",
      "Mean msg overhead : 40.0\n"
     ]
    }
   ],
   "source": [
    "print(\"Mean time : \" + str(np.mean(FASTER[0])))\n",
    "print(\"Mean msg overhead : \" + str(np.mean(FASTER[1])))"
   ]
  },
  {
   "cell_type": "code",
   "execution_count": 17,
   "metadata": {},
   "outputs": [
    {
     "name": "stdout",
     "output_type": "stream",
     "text": [
      "Mean time : 124.09919\n",
      "Mean msg overhead : 40.0\n"
     ]
    }
   ],
   "source": [
    "print(\"Mean time : \" + str(np.mean(JSQ[0])))\n",
    "print(\"Mean msg overhead : \" + str(np.mean(JSQ[1])))"
   ]
  },
  {
   "cell_type": "code",
   "execution_count": 18,
   "metadata": {},
   "outputs": [],
   "source": [
    "POD = POD_simulation([task.copy() for task in messages])"
   ]
  },
  {
   "cell_type": "code",
   "execution_count": 19,
   "metadata": {},
   "outputs": [
    {
     "name": "stdout",
     "output_type": "stream",
     "text": [
      "Mean time : 242.27189\n",
      "Mean msg overhead : 6.0\n"
     ]
    }
   ],
   "source": [
    "print(\"Mean time : \" + str(np.mean(POD[0])))\n",
    "print(\"Mean msg overhead : \" + str(np.mean(POD[1])))"
   ]
  },
  {
   "cell_type": "code",
   "execution_count": 34,
   "metadata": {},
   "outputs": [],
   "source": [
    "JBT = JBT_simulation([task.copy() for task in messages])"
   ]
  },
  {
   "cell_type": "code",
   "execution_count": 35,
   "metadata": {},
   "outputs": [
    {
     "name": "stdout",
     "output_type": "stream",
     "text": [
      "Mean time : 463.9871\n",
      "Mean msg overhead : 0.72866\n"
     ]
    }
   ],
   "source": [
    "print(\"Mean time : \" + str(np.mean(JBT[0])))\n",
    "print(\"Mean msg overhead : \" + str(np.mean(JBT[1])))"
   ]
  },
  {
   "cell_type": "code",
   "execution_count": 22,
   "metadata": {},
   "outputs": [
    {
     "data": {
      "text/plain": [
       "100000"
      ]
     },
     "execution_count": 22,
     "metadata": {},
     "output_type": "execute_result"
    }
   ],
   "source": [
    "len(JBT[1])"
   ]
  },
  {
   "cell_type": "code",
   "execution_count": 8,
   "metadata": {},
   "outputs": [
    {
     "ename": "KeyboardInterrupt",
     "evalue": "",
     "output_type": "error",
     "traceback": [
      "\u001b[1;31m---------------------------------------------------------------------------\u001b[0m",
      "\u001b[1;31mKeyboardInterrupt\u001b[0m                         Traceback (most recent call last)",
      "\u001b[1;32m<ipython-input-8-39d951ea6483>\u001b[0m in \u001b[0;36m<module>\u001b[1;34m\u001b[0m\n\u001b[0;32m      9\u001b[0m     \u001b[0mtemp2\u001b[0m \u001b[1;33m=\u001b[0m \u001b[1;33m[\u001b[0m\u001b[1;33m]\u001b[0m\u001b[1;33m\u001b[0m\u001b[1;33m\u001b[0m\u001b[0m\n\u001b[0;32m     10\u001b[0m     \u001b[1;32mfor\u001b[0m \u001b[0mi\u001b[0m \u001b[1;32min\u001b[0m \u001b[0mrange\u001b[0m\u001b[1;33m(\u001b[0m\u001b[1;36m15\u001b[0m\u001b[1;33m)\u001b[0m\u001b[1;33m:\u001b[0m\u001b[1;33m\u001b[0m\u001b[1;33m\u001b[0m\u001b[0m\n\u001b[1;32m---> 11\u001b[1;33m         \u001b[0ma\u001b[0m \u001b[1;33m=\u001b[0m \u001b[0mJSQ_simulation\u001b[0m\u001b[1;33m(\u001b[0m\u001b[1;36m100000\u001b[0m\u001b[1;33m,\u001b[0m \u001b[0mT0\u001b[0m \u001b[1;33m=\u001b[0m \u001b[1;36m1\u001b[0m\u001b[1;33m,\u001b[0m \u001b[0mq\u001b[0m \u001b[1;33m=\u001b[0m \u001b[1;36m3\u001b[0m \u001b[1;33m/\u001b[0m \u001b[1;36m5\u001b[0m\u001b[1;33m,\u001b[0m \u001b[0mYbar\u001b[0m \u001b[1;33m=\u001b[0m \u001b[1;36m10\u001b[0m\u001b[1;33m,\u001b[0m \u001b[0mN\u001b[0m \u001b[1;33m=\u001b[0m \u001b[1;36m20\u001b[0m\u001b[1;33m,\u001b[0m \u001b[0malpha\u001b[0m \u001b[1;33m=\u001b[0m \u001b[1;36m0.5\u001b[0m\u001b[1;33m,\u001b[0m \u001b[0mrho\u001b[0m \u001b[1;33m=\u001b[0m \u001b[0mro\u001b[0m\u001b[1;33m)\u001b[0m\u001b[1;33m\u001b[0m\u001b[1;33m\u001b[0m\u001b[0m\n\u001b[0m\u001b[0;32m     12\u001b[0m         \u001b[0mtemp1\u001b[0m\u001b[1;33m.\u001b[0m\u001b[0mappend\u001b[0m\u001b[1;33m(\u001b[0m\u001b[0mnp\u001b[0m\u001b[1;33m.\u001b[0m\u001b[0mmean\u001b[0m\u001b[1;33m(\u001b[0m\u001b[0ma\u001b[0m\u001b[1;33m[\u001b[0m\u001b[1;36m0\u001b[0m\u001b[1;33m]\u001b[0m\u001b[1;33m)\u001b[0m\u001b[1;33m)\u001b[0m\u001b[1;33m\u001b[0m\u001b[1;33m\u001b[0m\u001b[0m\n\u001b[0;32m     13\u001b[0m         \u001b[0mtemp2\u001b[0m\u001b[1;33m.\u001b[0m\u001b[0mappend\u001b[0m\u001b[1;33m(\u001b[0m\u001b[0mnp\u001b[0m\u001b[1;33m.\u001b[0m\u001b[0mmean\u001b[0m\u001b[1;33m(\u001b[0m\u001b[0ma\u001b[0m\u001b[1;33m[\u001b[0m\u001b[1;36m1\u001b[0m\u001b[1;33m]\u001b[0m\u001b[1;33m)\u001b[0m\u001b[1;33m)\u001b[0m\u001b[1;33m\u001b[0m\u001b[1;33m\u001b[0m\u001b[0m\n",
      "\u001b[1;32m<ipython-input-3-d6e2b014dbc9>\u001b[0m in \u001b[0;36mJSQ_simulation\u001b[1;34m(messages, T0, q, Ybar, N, alpha, rho)\u001b[0m\n\u001b[0;32m     18\u001b[0m         \u001b[1;31m#       to_print = to_print + \" | \" + str(element.X)\u001b[0m\u001b[1;33m\u001b[0m\u001b[1;33m\u001b[0m\u001b[1;33m\u001b[0m\u001b[0m\n\u001b[0;32m     19\u001b[0m         \u001b[1;31m#   print(\"Server - \" + str(index) + to_print)\u001b[0m\u001b[1;33m\u001b[0m\u001b[1;33m\u001b[0m\u001b[1;33m\u001b[0m\u001b[0m\n\u001b[1;32m---> 20\u001b[1;33m         \u001b[0mfirst_server_stopped\u001b[0m \u001b[1;33m=\u001b[0m \u001b[0mmin\u001b[0m\u001b[1;33m(\u001b[0m\u001b[0mservers\u001b[0m\u001b[1;33m,\u001b[0m \u001b[0mkey\u001b[0m \u001b[1;33m=\u001b[0m \u001b[1;32mlambda\u001b[0m \u001b[0mx\u001b[0m \u001b[1;33m:\u001b[0m \u001b[0mx\u001b[0m\u001b[1;33m.\u001b[0m\u001b[0mtask_remaining_time\u001b[0m\u001b[1;33m(\u001b[0m\u001b[1;33m)\u001b[0m\u001b[1;33m)\u001b[0m\u001b[1;33m.\u001b[0m\u001b[0mtask_remaining_time\u001b[0m\u001b[1;33m(\u001b[0m\u001b[1;33m)\u001b[0m\u001b[1;33m\u001b[0m\u001b[1;33m\u001b[0m\u001b[0m\n\u001b[0m\u001b[0;32m     21\u001b[0m         \u001b[0mservers_stopped\u001b[0m \u001b[1;33m=\u001b[0m \u001b[1;33m[\u001b[0m\u001b[0mserver\u001b[0m \u001b[1;32mfor\u001b[0m \u001b[0mserver\u001b[0m \u001b[1;32min\u001b[0m \u001b[0mservers\u001b[0m \u001b[1;32mif\u001b[0m \u001b[0mserver\u001b[0m\u001b[1;33m.\u001b[0m\u001b[0mtask_remaining_time\u001b[0m\u001b[1;33m(\u001b[0m\u001b[1;33m)\u001b[0m \u001b[1;33m==\u001b[0m \u001b[0mfirst_server_stopped\u001b[0m\u001b[1;33m]\u001b[0m\u001b[1;33m\u001b[0m\u001b[1;33m\u001b[0m\u001b[0m\n\u001b[0;32m     22\u001b[0m         \u001b[0mtime\u001b[0m \u001b[1;33m=\u001b[0m \u001b[0mmin\u001b[0m\u001b[1;33m(\u001b[0m\u001b[1;33m[\u001b[0m\u001b[0mfirst_server_stopped\u001b[0m\u001b[1;33m,\u001b[0m \u001b[0mnext_task\u001b[0m\u001b[1;33m.\u001b[0m\u001b[0mT\u001b[0m\u001b[1;33m]\u001b[0m\u001b[1;33m)\u001b[0m\u001b[1;33m\u001b[0m\u001b[1;33m\u001b[0m\u001b[0m\n",
      "\u001b[1;32m<ipython-input-3-d6e2b014dbc9>\u001b[0m in \u001b[0;36m<lambda>\u001b[1;34m(x)\u001b[0m\n\u001b[0;32m     18\u001b[0m         \u001b[1;31m#       to_print = to_print + \" | \" + str(element.X)\u001b[0m\u001b[1;33m\u001b[0m\u001b[1;33m\u001b[0m\u001b[1;33m\u001b[0m\u001b[0m\n\u001b[0;32m     19\u001b[0m         \u001b[1;31m#   print(\"Server - \" + str(index) + to_print)\u001b[0m\u001b[1;33m\u001b[0m\u001b[1;33m\u001b[0m\u001b[1;33m\u001b[0m\u001b[0m\n\u001b[1;32m---> 20\u001b[1;33m         \u001b[0mfirst_server_stopped\u001b[0m \u001b[1;33m=\u001b[0m \u001b[0mmin\u001b[0m\u001b[1;33m(\u001b[0m\u001b[0mservers\u001b[0m\u001b[1;33m,\u001b[0m \u001b[0mkey\u001b[0m \u001b[1;33m=\u001b[0m \u001b[1;32mlambda\u001b[0m \u001b[0mx\u001b[0m \u001b[1;33m:\u001b[0m \u001b[0mx\u001b[0m\u001b[1;33m.\u001b[0m\u001b[0mtask_remaining_time\u001b[0m\u001b[1;33m(\u001b[0m\u001b[1;33m)\u001b[0m\u001b[1;33m)\u001b[0m\u001b[1;33m.\u001b[0m\u001b[0mtask_remaining_time\u001b[0m\u001b[1;33m(\u001b[0m\u001b[1;33m)\u001b[0m\u001b[1;33m\u001b[0m\u001b[1;33m\u001b[0m\u001b[0m\n\u001b[0m\u001b[0;32m     21\u001b[0m         \u001b[0mservers_stopped\u001b[0m \u001b[1;33m=\u001b[0m \u001b[1;33m[\u001b[0m\u001b[0mserver\u001b[0m \u001b[1;32mfor\u001b[0m \u001b[0mserver\u001b[0m \u001b[1;32min\u001b[0m \u001b[0mservers\u001b[0m \u001b[1;32mif\u001b[0m \u001b[0mserver\u001b[0m\u001b[1;33m.\u001b[0m\u001b[0mtask_remaining_time\u001b[0m\u001b[1;33m(\u001b[0m\u001b[1;33m)\u001b[0m \u001b[1;33m==\u001b[0m \u001b[0mfirst_server_stopped\u001b[0m\u001b[1;33m]\u001b[0m\u001b[1;33m\u001b[0m\u001b[1;33m\u001b[0m\u001b[0m\n\u001b[0;32m     22\u001b[0m         \u001b[0mtime\u001b[0m \u001b[1;33m=\u001b[0m \u001b[0mmin\u001b[0m\u001b[1;33m(\u001b[0m\u001b[1;33m[\u001b[0m\u001b[0mfirst_server_stopped\u001b[0m\u001b[1;33m,\u001b[0m \u001b[0mnext_task\u001b[0m\u001b[1;33m.\u001b[0m\u001b[0mT\u001b[0m\u001b[1;33m]\u001b[0m\u001b[1;33m)\u001b[0m\u001b[1;33m\u001b[0m\u001b[1;33m\u001b[0m\u001b[0m\n",
      "\u001b[1;31mKeyboardInterrupt\u001b[0m: "
     ]
    }
   ],
   "source": [
    "#NINA\n",
    "rho = []\n",
    "times1 = []\n",
    "msg1 = []\n",
    "sd1 = []\n",
    "sd2 = []\n",
    "for ro in list(np.linspace(0.8,0.99,70)):\n",
    "    temp1 = []\n",
    "    temp2 = []\n",
    "    for i in range(15):\n",
    "        a = JSQ_simulation(100000, T0 = 1, q = 3 / 5, Ybar = 10, N = 20, alpha = 0.5, rho = ro)\n",
    "        temp1.append(np.mean(a[0]))\n",
    "        temp2.append(np.mean(a[1]))\n",
    "    times1.append(np.mean(temp1))\n",
    "    msg1.append(np.mean(temp2))\n",
    "    sd1.append(np.std(temp1)/np.sqrt(15))\n",
    "    sd2.append(np.std(temp2)/np.sqrt(15))\n",
    "    rho.append(ro)    \n",
    "d1 = {'rho':rho, 'meanDelay':times1, 'sd_time':sd1, 'MessageOverhead':msg1, 'sd_msg':sd2}\n",
    "d1 = pd.DataFrame.from_dict(d1)\n",
    "d1.to_csv('d1.csv', index = False)"
   ]
  },
  {
   "cell_type": "code",
   "execution_count": null,
   "metadata": {},
   "outputs": [],
   "source": [
    "#DAVIDE\n",
    "rho = []\n",
    "times1 = []\n",
    "msg1 = []\n",
    "sd1 = []\n",
    "sd2 = []\n",
    "for ro in list(np.linspace(0.8,0.99,70)):\n",
    "    temp1 = []\n",
    "    temp2 = []\n",
    "    for i in range(15):\n",
    "        a = JBT_simulation(100000, T0 = 1, q = 3 / 5, Ybar = 10, N = 20, alpha = 0.5, rho = ro)\n",
    "        temp1.append(np.mean(a[0]))\n",
    "        temp2.append(np.mean(a[1]))\n",
    "    times1.append(np.mean(temp1))\n",
    "    msg1.append(np.mean(temp2))\n",
    "    sd1.append(np.std(temp1)/np.sqrt(15))\n",
    "    sd2.append(np.std(temp2)/np.sqrt(15))\n",
    "    rho.append(ro)    \n",
    "d2 = {'rho':rho, 'meanDelay':times1, 'sd_time':sd1, 'MessageOverhead':msg1, 'sd_msg':sd2}\n",
    "d2 = pd.DataFrame.from_dict(d2)\n",
    "d2.to_csv('d2.csv', index = False)"
   ]
  },
  {
   "cell_type": "code",
   "execution_count": 9,
   "metadata": {},
   "outputs": [
    {
     "ename": "NameError",
     "evalue": "name 'd1' is not defined",
     "output_type": "error",
     "traceback": [
      "\u001b[1;31m---------------------------------------------------------------------------\u001b[0m",
      "\u001b[1;31mNameError\u001b[0m                                 Traceback (most recent call last)",
      "\u001b[1;32m<ipython-input-9-9ec056c6d08e>\u001b[0m in \u001b[0;36m<module>\u001b[1;34m\u001b[0m\n\u001b[0;32m     18\u001b[0m     \u001b[0mrho\u001b[0m\u001b[1;33m.\u001b[0m\u001b[0mappend\u001b[0m\u001b[1;33m(\u001b[0m\u001b[0mro\u001b[0m\u001b[1;33m)\u001b[0m\u001b[1;33m\u001b[0m\u001b[1;33m\u001b[0m\u001b[0m\n\u001b[0;32m     19\u001b[0m \u001b[0md3\u001b[0m \u001b[1;33m=\u001b[0m \u001b[1;33m{\u001b[0m\u001b[1;34m'rho'\u001b[0m\u001b[1;33m:\u001b[0m\u001b[0mrho\u001b[0m\u001b[1;33m,\u001b[0m \u001b[1;34m'meanDelay'\u001b[0m\u001b[1;33m:\u001b[0m\u001b[0mtimes1\u001b[0m\u001b[1;33m,\u001b[0m \u001b[1;34m'sd_time'\u001b[0m\u001b[1;33m:\u001b[0m\u001b[0msd1\u001b[0m\u001b[1;33m,\u001b[0m \u001b[1;34m'MessageOverhead'\u001b[0m\u001b[1;33m:\u001b[0m\u001b[0mmsg1\u001b[0m\u001b[1;33m,\u001b[0m \u001b[1;34m'sd_msg'\u001b[0m\u001b[1;33m:\u001b[0m\u001b[0msd2\u001b[0m\u001b[1;33m}\u001b[0m\u001b[1;33m\u001b[0m\u001b[1;33m\u001b[0m\u001b[0m\n\u001b[1;32m---> 20\u001b[1;33m \u001b[0md3\u001b[0m \u001b[1;33m=\u001b[0m \u001b[0mpd\u001b[0m\u001b[1;33m.\u001b[0m\u001b[0mDataFrame\u001b[0m\u001b[1;33m.\u001b[0m\u001b[0mfrom_dict\u001b[0m\u001b[1;33m(\u001b[0m\u001b[0md1\u001b[0m\u001b[1;33m)\u001b[0m\u001b[1;33m\u001b[0m\u001b[1;33m\u001b[0m\u001b[0m\n\u001b[0m\u001b[0;32m     21\u001b[0m \u001b[0md3\u001b[0m\u001b[1;33m.\u001b[0m\u001b[0mto_csv\u001b[0m\u001b[1;33m(\u001b[0m\u001b[1;34m'd3.csv'\u001b[0m\u001b[1;33m,\u001b[0m \u001b[0mindex\u001b[0m \u001b[1;33m=\u001b[0m \u001b[1;32mFalse\u001b[0m\u001b[1;33m)\u001b[0m\u001b[1;33m\u001b[0m\u001b[1;33m\u001b[0m\u001b[0m\n",
      "\u001b[1;31mNameError\u001b[0m: name 'd1' is not defined"
     ]
    }
   ],
   "source": [
    "#LEO\n",
    "rho = []\n",
    "times1 = []\n",
    "msg1 = []\n",
    "sd1 = []\n",
    "sd2 = []\n",
    "for ro in list(np.linspace(0.8,0.99,70)):\n",
    "    temp1 = []\n",
    "    temp2 = []\n",
    "    for i in range(15):\n",
    "        a = POD_simulation(100000, T0 = 1, q = 3 / 5, Ybar = 10, N = 20, alpha = 0.5, rho = ro)\n",
    "        temp1.append(np.mean(a[0]))\n",
    "        temp2.append(np.mean(a[1]))\n",
    "    times1.append(np.mean(temp1))\n",
    "    msg1.append(np.mean(temp2))\n",
    "    sd1.append(np.std(temp1)/np.sqrt(15))\n",
    "    sd2.append(np.std(temp2)/np.sqrt(15))\n",
    "    rho.append(ro)    \n",
    "d3 = {'rho':rho, 'meanDelay':times1, 'sd_time':sd1, 'MessageOverhead':msg1, 'sd_msg':sd2}\n",
    "d3 = pd.DataFrame.from_dict(d3)\n",
    "d3.to_csv('d3.csv', index = False)"
   ]
  },
  {
   "cell_type": "code",
   "execution_count": null,
   "metadata": {},
   "outputs": [],
   "source": [
    "#STEFANO\n",
    "rho = []\n",
    "times1 = []\n",
    "msg1 = []\n",
    "sd1 = []\n",
    "sd2 = []\n",
    "for ro in list(np.linspace(0.8,0.99,70)):\n",
    "    temp1 = []\n",
    "    temp2 = []\n",
    "    for i in range(15):\n",
    "        a = ALT_simulation(100000, T0 = 1, q = 3 / 5, Ybar = 10, N = 20, alpha = 0.5, rho = ro)\n",
    "        temp1.append(np.mean(a[0]))\n",
    "        temp2.append(np.mean(a[1]))\n",
    "    times1.append(np.mean(temp1))\n",
    "    msg1.append(np.mean(temp2))\n",
    "    sd1.append(np.std(temp1)/np.sqrt(15))\n",
    "    sd2.append(np.std(temp2)/np.sqrt(15))\n",
    "    rho.append(ro)    \n",
    "d4 = {'rho':rho, 'meanDelay':times1, 'sd_time':sd1, 'MessageOverhead':msg1, 'sd_msg':sd2}\n",
    "d4 = pd.DataFrame.from_dict(d4)\n",
    "d4.to_csv('d4.csv', index = False)"
   ]
  },
  {
   "cell_type": "code",
   "execution_count": null,
   "metadata": {},
   "outputs": [],
   "source": [
    "#NINA2\n",
    "rho = []\n",
    "times1 = []\n",
    "msg1 = []\n",
    "sd1 = []\n",
    "sd2 = []\n",
    "for ro in list(np.linspace(0.8,0.99,70)):\n",
    "    temp1 = []\n",
    "    temp2 = []\n",
    "    for i in range(15):\n",
    "        a = NINA_simulation(100000, T0 = 1, q = 3 / 5, Ybar = 10, N = 20, alpha = 0.5, rho = ro)\n",
    "        temp1.append(np.mean(a[0]))\n",
    "        temp2.append(np.mean(a[1]))\n",
    "    times1.append(np.mean(temp1))\n",
    "    msg1.append(np.mean(temp2))\n",
    "    sd1.append(np.std(temp1)/np.sqrt(15))\n",
    "    sd2.append(np.std(temp2)/np.sqrt(15))\n",
    "    rho.append(ro)    \n",
    "d5 = {'rho':rho, 'meanDelay':times1, 'sd_time':sd1, 'MessageOverhead':msg1, 'sd_msg':sd2}\n",
    "d5 = pd.DataFrame.from_dict(d5)\n",
    "d5.to_csv('d5.csv', index = False)"
   ]
  },
  {
   "cell_type": "code",
   "execution_count": 3,
   "metadata": {},
   "outputs": [],
   "source": [
    "#open dfs\n",
    "d1 = pd.read_csv('d1.csv', low_memory = False)\n",
    "d2 = pd.read_csv('d2.csv', low_memory = False)\n",
    "d3 = pd.read_csv('d3.csv', low_memory = False)\n",
    "d4 = pd.read_csv('d4.csv', low_memory = False)\n",
    "#d5 = pd.read_csv('d5.csv', low_memory = False)"
   ]
  },
  {
   "cell_type": "code",
   "execution_count": 8,
   "metadata": {},
   "outputs": [
    {
     "data": {
      "image/png": "[encoded data removed]",
      "text/plain": [
       "<Figure size 432x288 with 1 Axes>"
      ]
     },
     "metadata": {
      "needs_background": "light"
     },
     "output_type": "display_data"
    }
   ],
   "source": [
    "'''Plotting MEAN SYSTEM TIME'''\n",
    "\n",
    "import matplotlib.pyplot as plt\n",
    "fig = plt.figure()\n",
    "#plt.plot(d1['rho'], d1['meanDelay'])#, label = \"line 1\")\n",
    "plt.errorbar(d1['rho'],d1['meanDelay'] , yerr=1.96*d1['sd_time'], label='JSQ-95%CI')\n",
    "#plt.plot(d2['rho'], d2['meanDelay'])#, label = \"line 2\")\n",
    "plt.errorbar(d2['rho'],d2['meanDelay'] , yerr=1.96*d2['sd_time'], label='JBT-95%CI')\n",
    "#plt.plot(d3['rho'], d3['meanDelay'])#, label = \"line 3\")\n",
    "plt.errorbar(d3['rho'],d3['meanDelay'] , yerr=1.96*d3['sd_time'], label='POD-95%CI')\n",
    "plt.legend(loc='lower right', bbox_to_anchor=(0., 0.7, 0.3, 0.2))\n",
    "\n",
    "\n",
    "plt.savefig('MeanSystemTimeST.png')"
   ]
  },
  {
   "cell_type": "code",
   "execution_count": 9,
   "metadata": {},
   "outputs": [
    {
     "data": {
      "image/png": "[encoded data removed]",
      "text/plain": [
       "<Figure size 432x288 with 1 Axes>"
      ]
     },
     "metadata": {
      "needs_background": "light"
     },
     "output_type": "display_data"
    }
   ],
   "source": [
    "'''Plotting MEAN MESSAGE OVERHEAD'''\n",
    "\n",
    "import matplotlib.pyplot as plt\n",
    "fig = plt.figure()\n",
    "plt.errorbar(d1['rho'],d1['MessageOverhead'] , yerr=1.96*d1['sd_msg'], label='JSQ-95%CI')\n",
    "plt.errorbar(d2['rho'],d2['MessageOverhead'] , yerr=1.96*d2['sd_msg'], label='JBT-95%CI')\n",
    "plt.errorbar(d3['rho'],d3['MessageOverhead'] , yerr=1.96*d3['sd_msg'], label='POD-95%CI')\n",
    "plt.legend(loc='lower right', bbox_to_anchor=(0., 0.7, 0.3, 0.2))\n",
    "\n",
    "\n",
    "plt.savefig('MeanMessageOverST.png')"
   ]
  },
  {
   "cell_type": "markdown",
   "metadata": {},
   "source": [
    "# OUR METHOD VS JSQ"
   ]
  },
  {
   "cell_type": "code",
   "execution_count": 6,
   "metadata": {},
   "outputs": [
    {
     "data": {
      "image/png": "[encoded data removed]",
      "text/plain": [
       "<Figure size 432x288 with 1 Axes>"
      ]
     },
     "metadata": {
      "needs_background": "light"
     },
     "output_type": "display_data"
    }
   ],
   "source": [
    "'''Plotting MEAN SYSTEM TIME'''\n",
    "\n",
    "import matplotlib.pyplot as plt\n",
    "fig = plt.figure()\n",
    "plt.errorbar(d1['rho'],d1['meanDelay'] , yerr=1.96*d1['sd_time'], label='JSQ-95%CI')\n",
    "plt.errorbar(d4['rho'],d4['meanDelay'] , yerr=1.96*d4['sd_time'], label='ALT-95%CI')\n",
    "\n",
    "plt.legend(loc='lower right', bbox_to_anchor=(0., 0.7, 0.3, 0.2))\n",
    "\n",
    "\n",
    "plt.savefig('MeanSystemTimeOUR.png')"
   ]
  },
  {
   "cell_type": "code",
   "execution_count": 7,
   "metadata": {},
   "outputs": [
    {
     "data": {
      "image/png": "[encoded data removed]",
      "text/plain": [
       "<Figure size 432x288 with 1 Axes>"
      ]
     },
     "metadata": {
      "needs_background": "light"
     },
     "output_type": "display_data"
    }
   ],
   "source": [
    "'''Plotting MEAN MESSAGE OVERHEAD'''\n",
    "\n",
    "import matplotlib.pyplot as plt\n",
    "fig = plt.figure()\n",
    "plt.errorbar(d1['rho'],d1['MessageOverhead'] , yerr=1.96*d1['sd_msg'], label='JSQ-95%CI')\n",
    "plt.errorbar(d4['rho'],d4['MessageOverhead'] , yerr=1.96*d4['sd_msg'], label='ALT-95%CI') #our method\n",
    "plt.legend(loc='lower right', bbox_to_anchor=(0., 0.7, 0.3, 0.2))\n",
    "\n",
    "\n",
    "plt.savefig('MeanMessageOverOUR.png')"
   ]
  },
  {
   "cell_type": "code",
   "execution_count": null,
   "metadata": {},
   "outputs": [],
   "source": []
  },
  {
   "cell_type": "code",
   "execution_count": null,
   "metadata": {},
   "outputs": [],
   "source": []
  },
  {
   "cell_type": "code",
   "execution_count": null,
   "metadata": {},
   "outputs": [],
   "source": []
  }
 ],
 "metadata": {
  "kernelspec": {
   "display_name": "Python 3",
   "language": "python",
   "name": "python3"
  },
  "language_info": {
   "codemirror_mode": {
    "name": "ipython",
    "version": 3
   },
   "file_extension": ".py",
   "mimetype": "text/x-python",
   "name": "python",
   "nbconvert_exporter": "python",
   "pygments_lexer": "ipython3",
   "version": "3.7.5"
  }
 },
 "nbformat": 4,
 "nbformat_minor": 4
}
